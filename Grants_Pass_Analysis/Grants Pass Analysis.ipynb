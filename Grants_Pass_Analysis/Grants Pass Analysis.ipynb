{
 "cells": [
  {
   "cell_type": "code",
   "execution_count": 2,
   "id": "092564fe",
   "metadata": {},
   "outputs": [],
   "source": [
    "# Import Dependencies\n",
    "import pandas as pd"
   ]
  },
  {
   "cell_type": "code",
   "execution_count": 3,
   "id": "b754ed7f",
   "metadata": {
    "scrolled": false
   },
   "outputs": [],
   "source": [
    "# Import Datasets\n",
    "gp_age = pd.read_csv('Data/Age by Nativity.csv', usecols=['Age','Year','Birthplace'])\n",
    "gp_veterans = pd.read_csv('Data/Veterans.csv', usecols=['Period of Service', 'Year', 'Veterans', 'Geography'])"
   ]
  },
  {
   "cell_type": "code",
   "execution_count": 4,
   "id": "a7c018b8",
   "metadata": {
    "scrolled": true
   },
   "outputs": [
    {
     "data": {
      "text/html": [
       "<div><div id=82e409dd-22d5-4195-8592-b14a42fe06d5 style=\"display:none; background-color:#9D6CFF; color:white; width:200px; height:30px; padding-left:5px; border-radius:4px; flex-direction:row; justify-content:space-around; align-items:center;\" onmouseover=\"this.style.backgroundColor='#BA9BF8'\" onmouseout=\"this.style.backgroundColor='#9D6CFF'\" onclick=\"window.commands?.execute('create-mitosheet-from-dataframe-output');\">See Full Dataframe in Mito</div> <script> if (window.commands.hasCommand('create-mitosheet-from-dataframe-output')) document.getElementById('82e409dd-22d5-4195-8592-b14a42fe06d5').style.display = 'flex' </script> <table border=\"1\" class=\"dataframe\">\n",
       "  <thead>\n",
       "    <tr style=\"text-align: right;\">\n",
       "      <th></th>\n",
       "      <th>Period of Service</th>\n",
       "      <th>Year</th>\n",
       "      <th>Veterans</th>\n",
       "      <th>Geography</th>\n",
       "    </tr>\n",
       "  </thead>\n",
       "  <tbody>\n",
       "    <tr>\n",
       "      <th>5</th>\n",
       "      <td>Gulf War (2001-)</td>\n",
       "      <td>2020</td>\n",
       "      <td>681</td>\n",
       "      <td>Grants Pass, OR</td>\n",
       "    </tr>\n",
       "    <tr>\n",
       "      <th>6</th>\n",
       "      <td>Gulf War (1990s)</td>\n",
       "      <td>2020</td>\n",
       "      <td>479</td>\n",
       "      <td>Grants Pass, OR</td>\n",
       "    </tr>\n",
       "    <tr>\n",
       "      <th>7</th>\n",
       "      <td>Vietnam</td>\n",
       "      <td>2020</td>\n",
       "      <td>711</td>\n",
       "      <td>Grants Pass, OR</td>\n",
       "    </tr>\n",
       "    <tr>\n",
       "      <th>8</th>\n",
       "      <td>Korea</td>\n",
       "      <td>2020</td>\n",
       "      <td>311</td>\n",
       "      <td>Grants Pass, OR</td>\n",
       "    </tr>\n",
       "    <tr>\n",
       "      <th>9</th>\n",
       "      <td>World War II</td>\n",
       "      <td>2020</td>\n",
       "      <td>226</td>\n",
       "      <td>Grants Pass, OR</td>\n",
       "    </tr>\n",
       "  </tbody>\n",
       "</table></div>"
      ],
      "text/plain": [
       "  Period of Service  Year  Veterans        Geography\n",
       "5  Gulf War (2001-)  2020       681  Grants Pass, OR\n",
       "6  Gulf War (1990s)  2020       479  Grants Pass, OR\n",
       "7           Vietnam  2020       711  Grants Pass, OR\n",
       "8             Korea  2020       311  Grants Pass, OR\n",
       "9      World War II  2020       226  Grants Pass, OR"
      ]
     },
     "execution_count": 4,
     "metadata": {},
     "output_type": "execute_result"
    }
   ],
   "source": [
    "# Filter the dataset to only include Grants Pass\n",
    "gp_veterans = gp_veterans.loc[gp_veterans['Geography'] == 'Grants Pass, OR'] \n",
    "gp_veterans.head()"
   ]
  },
  {
   "cell_type": "code",
   "execution_count": 16,
   "id": "bdba872e",
   "metadata": {
    "scrolled": true
   },
   "outputs": [],
   "source": [
    "# Export to csv\n",
    "gp_veterans.to_csv('gp_veterans.csv')"
   ]
  },
  {
   "cell_type": "code",
   "execution_count": 10,
   "id": "185e3686",
   "metadata": {
    "scrolled": false
   },
   "outputs": [
    {
     "data": {
      "text/html": [
       "<div><div id=952ac464-89be-4136-9f29-b47fd295c893 style=\"display:none; background-color:#9D6CFF; color:white; width:200px; height:30px; padding-left:5px; border-radius:4px; flex-direction:row; justify-content:space-around; align-items:center;\" onmouseover=\"this.style.backgroundColor='#BA9BF8'\" onmouseout=\"this.style.backgroundColor='#9D6CFF'\" onclick=\"window.commands?.execute('create-mitosheet-from-dataframe-output');\">See Full Dataframe in Mito</div> <script> if (window.commands.hasCommand('create-mitosheet-from-dataframe-output')) document.getElementById('952ac464-89be-4136-9f29-b47fd295c893').style.display = 'flex' </script> <table border=\"1\" class=\"dataframe\">\n",
       "  <thead>\n",
       "    <tr style=\"text-align: right;\">\n",
       "      <th></th>\n",
       "      <th>Age</th>\n",
       "      <th>Year</th>\n",
       "      <th>Birthplace</th>\n",
       "    </tr>\n",
       "  </thead>\n",
       "  <tbody>\n",
       "    <tr>\n",
       "      <th>0</th>\n",
       "      <td>Under 5 Years</td>\n",
       "      <td>2020</td>\n",
       "      <td>2009</td>\n",
       "    </tr>\n",
       "    <tr>\n",
       "      <th>1</th>\n",
       "      <td>5 to 17 Years</td>\n",
       "      <td>2020</td>\n",
       "      <td>6702</td>\n",
       "    </tr>\n",
       "    <tr>\n",
       "      <th>2</th>\n",
       "      <td>18 to 24 Years</td>\n",
       "      <td>2020</td>\n",
       "      <td>3361</td>\n",
       "    </tr>\n",
       "    <tr>\n",
       "      <th>3</th>\n",
       "      <td>25 to 34 Years</td>\n",
       "      <td>2020</td>\n",
       "      <td>4998</td>\n",
       "    </tr>\n",
       "    <tr>\n",
       "      <th>4</th>\n",
       "      <td>35 to 44 Years</td>\n",
       "      <td>2020</td>\n",
       "      <td>4508</td>\n",
       "    </tr>\n",
       "  </tbody>\n",
       "</table></div>"
      ],
      "text/plain": [
       "              Age  Year  Birthplace\n",
       "0   Under 5 Years  2020        2009\n",
       "1   5 to 17 Years  2020        6702\n",
       "2  18 to 24 Years  2020        3361\n",
       "3  25 to 34 Years  2020        4998\n",
       "4  35 to 44 Years  2020        4508"
      ]
     },
     "execution_count": 10,
     "metadata": {},
     "output_type": "execute_result"
    }
   ],
   "source": [
    "gp_age.head()"
   ]
  },
  {
   "cell_type": "code",
   "execution_count": null,
   "id": "752cb31c",
   "metadata": {},
   "outputs": [],
   "source": []
  }
 ],
 "metadata": {
  "kernelspec": {
   "display_name": "Python 3",
   "language": "python",
   "name": "python3"
  },
  "language_info": {
   "codemirror_mode": {
    "name": "ipython",
    "version": 3
   },
   "file_extension": ".py",
   "mimetype": "text/x-python",
   "name": "python",
   "nbconvert_exporter": "python",
   "pygments_lexer": "ipython3",
   "version": "3.7.10"
  }
 },
 "nbformat": 4,
 "nbformat_minor": 5
}
