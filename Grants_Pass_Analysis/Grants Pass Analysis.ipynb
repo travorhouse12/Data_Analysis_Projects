{
 "cells": [
  {
   "cell_type": "code",
   "execution_count": 1,
   "id": "092564fe",
   "metadata": {},
   "outputs": [],
   "source": [
    "# Import Dependencies\n",
    "import pandas as pd"
   ]
  },
  {
   "cell_type": "code",
   "execution_count": 12,
   "id": "b754ed7f",
   "metadata": {
    "scrolled": false
   },
   "outputs": [],
   "source": [
    "# Import Datasets\n",
    "gp_age = pd.read_csv('Data/Age by Nativity.csv', usecols=['Age','Year','Birthplace'])\n",
    "gp_veterans = pd.read_csv('Data/Veterans.csv', usecols=['Period of Service', 'Year', 'Veterans', 'Geography'])\n",
    "gp_demographic = pd.read_csv('Data/Race and Ethnicity.csv', usecols=['Race', 'Year', 'Geography','Population'])"
   ]
  },
  {
   "cell_type": "code",
   "execution_count": 14,
   "id": "bdba872e",
   "metadata": {
    "scrolled": true
   },
   "outputs": [
    {
     "data": {
      "text/html": [
       "<div>\n",
       "<style scoped>\n",
       "    .dataframe tbody tr th:only-of-type {\n",
       "        vertical-align: middle;\n",
       "    }\n",
       "\n",
       "    .dataframe tbody tr th {\n",
       "        vertical-align: top;\n",
       "    }\n",
       "\n",
       "    .dataframe thead th {\n",
       "        text-align: right;\n",
       "    }\n",
       "</style>\n",
       "<table border=\"1\" class=\"dataframe\">\n",
       "  <thead>\n",
       "    <tr style=\"text-align: right;\">\n",
       "      <th></th>\n",
       "      <th>Period of Service</th>\n",
       "      <th>Year</th>\n",
       "      <th>Veterans</th>\n",
       "      <th>Geography</th>\n",
       "    </tr>\n",
       "  </thead>\n",
       "  <tbody>\n",
       "    <tr>\n",
       "      <th>0</th>\n",
       "      <td>Gulf War (2001-)</td>\n",
       "      <td>2020</td>\n",
       "      <td>3679378</td>\n",
       "      <td>United States</td>\n",
       "    </tr>\n",
       "    <tr>\n",
       "      <th>1</th>\n",
       "      <td>Gulf War (1990s)</td>\n",
       "      <td>2020</td>\n",
       "      <td>2527375</td>\n",
       "      <td>United States</td>\n",
       "    </tr>\n",
       "    <tr>\n",
       "      <th>2</th>\n",
       "      <td>Vietnam</td>\n",
       "      <td>2020</td>\n",
       "      <td>5939729</td>\n",
       "      <td>United States</td>\n",
       "    </tr>\n",
       "    <tr>\n",
       "      <th>3</th>\n",
       "      <td>Korea</td>\n",
       "      <td>2020</td>\n",
       "      <td>1224977</td>\n",
       "      <td>United States</td>\n",
       "    </tr>\n",
       "    <tr>\n",
       "      <th>4</th>\n",
       "      <td>World War II</td>\n",
       "      <td>2020</td>\n",
       "      <td>457674</td>\n",
       "      <td>United States</td>\n",
       "    </tr>\n",
       "    <tr>\n",
       "      <th>...</th>\n",
       "      <td>...</td>\n",
       "      <td>...</td>\n",
       "      <td>...</td>\n",
       "      <td>...</td>\n",
       "    </tr>\n",
       "    <tr>\n",
       "      <th>75</th>\n",
       "      <td>Gulf War (2001-)</td>\n",
       "      <td>2013</td>\n",
       "      <td>306</td>\n",
       "      <td>Grants Pass, OR</td>\n",
       "    </tr>\n",
       "    <tr>\n",
       "      <th>76</th>\n",
       "      <td>Gulf War (1990s)</td>\n",
       "      <td>2013</td>\n",
       "      <td>201</td>\n",
       "      <td>Grants Pass, OR</td>\n",
       "    </tr>\n",
       "    <tr>\n",
       "      <th>77</th>\n",
       "      <td>Vietnam</td>\n",
       "      <td>2013</td>\n",
       "      <td>1026</td>\n",
       "      <td>Grants Pass, OR</td>\n",
       "    </tr>\n",
       "    <tr>\n",
       "      <th>78</th>\n",
       "      <td>Korea</td>\n",
       "      <td>2013</td>\n",
       "      <td>416</td>\n",
       "      <td>Grants Pass, OR</td>\n",
       "    </tr>\n",
       "    <tr>\n",
       "      <th>79</th>\n",
       "      <td>World War II</td>\n",
       "      <td>2013</td>\n",
       "      <td>452</td>\n",
       "      <td>Grants Pass, OR</td>\n",
       "    </tr>\n",
       "  </tbody>\n",
       "</table>\n",
       "<p>80 rows × 4 columns</p>\n",
       "</div>"
      ],
      "text/plain": [
       "   Period of Service  Year  Veterans        Geography\n",
       "0   Gulf War (2001-)  2020   3679378    United States\n",
       "1   Gulf War (1990s)  2020   2527375    United States\n",
       "2            Vietnam  2020   5939729    United States\n",
       "3              Korea  2020   1224977    United States\n",
       "4       World War II  2020    457674    United States\n",
       "..               ...   ...       ...              ...\n",
       "75  Gulf War (2001-)  2013       306  Grants Pass, OR\n",
       "76  Gulf War (1990s)  2013       201  Grants Pass, OR\n",
       "77           Vietnam  2013      1026  Grants Pass, OR\n",
       "78             Korea  2013       416  Grants Pass, OR\n",
       "79      World War II  2013       452  Grants Pass, OR\n",
       "\n",
       "[80 rows x 4 columns]"
      ]
     },
     "execution_count": 14,
     "metadata": {},
     "output_type": "execute_result"
    }
   ],
   "source": [
    "gp_veterans"
   ]
  },
  {
   "cell_type": "code",
   "execution_count": null,
   "id": "185e3686",
   "metadata": {},
   "outputs": [],
   "source": []
  }
 ],
 "metadata": {
  "kernelspec": {
   "display_name": "Python 3",
   "language": "python",
   "name": "python3"
  },
  "language_info": {
   "codemirror_mode": {
    "name": "ipython",
    "version": 3
   },
   "file_extension": ".py",
   "mimetype": "text/x-python",
   "name": "python",
   "nbconvert_exporter": "python",
   "pygments_lexer": "ipython3",
   "version": "3.8.8"
  }
 },
 "nbformat": 4,
 "nbformat_minor": 5
}
